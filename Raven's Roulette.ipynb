{
 "cells": [
  {
   "cell_type": "code",
   "execution_count": null,
   "id": "a16e9b0b-debb-4db4-a88b-fd4da33423c0",
   "metadata": {},
   "outputs": [
    {
     "name": "stdout",
     "output_type": "stream",
     "text": [
      "Welcome to RS Roulette\n",
      "Are you ready?\n",
      "You should be\n"
     ]
    },
    {
     "name": "stdin",
     "output_type": "stream",
     "text": [
      "Enter the amount you want to bet: 1\n",
      "Do you want to choose a number or a colour? Enter n/N for number or c/C for a colour: 1\n",
      "Do you want to stop playing (y/n)? n\n",
      "Enter the amount you want to bet: 1\n",
      "Do you want to choose a number or a colour? Enter n/N for number or c/C for a colour: 3\n",
      "Do you want to stop playing (y/n)? c\n",
      "Enter the amount you want to bet: c\n"
     ]
    },
    {
     "ename": "ValueError",
     "evalue": "could not convert string to float: 'c'",
     "output_type": "error",
     "traceback": [
      "\u001b[0;31m---------------------------------------------------------------------------\u001b[0m",
      "\u001b[0;31mValueError\u001b[0m                                Traceback (most recent call last)",
      "Cell \u001b[0;32mIn [1], line 10\u001b[0m\n\u001b[1;32m      8\u001b[0m \u001b[38;5;28;01mwhile\u001b[39;00m money \u001b[38;5;241m>\u001b[39m \u001b[38;5;241m0\u001b[39m:\n\u001b[1;32m      9\u001b[0m     bet_amount \u001b[38;5;241m=\u001b[39m \u001b[38;5;28minput\u001b[39m(\u001b[38;5;124m\"\u001b[39m\u001b[38;5;124mEnter the amount you want to bet:\u001b[39m\u001b[38;5;124m\"\u001b[39m)\n\u001b[0;32m---> 10\u001b[0m     \u001b[38;5;28;01mif\u001b[39;00m \u001b[38;5;28;43mfloat\u001b[39;49m\u001b[43m(\u001b[49m\u001b[43mbet_amount\u001b[49m\u001b[43m)\u001b[49m \u001b[38;5;241m>\u001b[39m money:\n\u001b[1;32m     11\u001b[0m         \u001b[38;5;28mprint\u001b[39m(\u001b[38;5;124m\"\u001b[39m\u001b[38;5;124mYou don\u001b[39m\u001b[38;5;124m'\u001b[39m\u001b[38;5;124mt have that much. Your game is over.\u001b[39m\u001b[38;5;124m\"\u001b[39m)\n\u001b[1;32m     12\u001b[0m     \u001b[38;5;28;01melse\u001b[39;00m:\n",
      "\u001b[0;31mValueError\u001b[0m: could not convert string to float: 'c'"
     ]
    }
   ],
   "source": [
    "import random\n",
    "import time\n",
    "\n",
    "#start the game \n",
    "print(\"Welcome to Raven's Roulette\\nAre you ready?\\nYou should be\")\n",
    "\n",
    "money = 1000\n",
    "while money > 0:\n",
    "    \n",
    "    \n",
    "    bet_amount = input(\"Enter the amount you want to bet:\")\n",
    "    if float(bet_amount) > money:\n",
    "        print(\"You don't have that much. Your game is over.\")\n",
    "    else:\n",
    "        roll = random.randint(1, 36)\n",
    "        choice = input(\"Do you want to choose a number or a colour? Enter n/N for number or c/C for a colour:\")\n",
    "        if choice.lower() == \"n\":\n",
    "            bet_number = input(\"Choose a number between 1-35:\")\n",
    "            if roll == float(bet_number):\n",
    "                money = float(bet_amount)*35\n",
    "                print(\"Congrats, you now have EUR \" + str(money))\n",
    "            else:  \n",
    "                money -= float(bet_amount)\n",
    "                print(\"Sorry, you lost this round! You now have EUR \" + str(money))\n",
    "        elif choice.lower() == \"c\":\n",
    "            roll = random.randint(1, 36)\n",
    "            if (roll % 2) == 0:\n",
    "                roll = \"b\"\n",
    "            else:\n",
    "                roll = \"r\"\n",
    "            bet_colour = input(\"Choose a colour between red (r/R) and black (b/B):\")\n",
    "            if bet_colour.lower() == \"b\" and roll == \"b\":\n",
    "                money = float(bet_amount)*2\n",
    "                print(\"Congrats, you have won EUR \" + str(money))\n",
    "            elif bet_colour.lower() == \"r\" and roll == \"r\":\n",
    "                money = float(bet_amount)*2\n",
    "                print(\"Congrats, you have won EUR \" + str(money))\n",
    "            else:  \n",
    "                money -= float(bet_amount)\n",
    "                print(\"Sorry, you lost! You now have EUR \" + str(money))\n",
    "    answer = input(\"Do you want to stop playing (y/n)?\")\n",
    "    if answer in [\"y\", \"Y\"]:\n",
    "        print(\"Thanks for playing!\")"
   ]
  },
  {
   "cell_type": "code",
   "execution_count": null,
   "id": "7f9e58eb-78be-46ff-9e99-4d6284600603",
   "metadata": {},
   "outputs": [],
   "source": []
  }
 ],
 "metadata": {
  "kernelspec": {
   "display_name": "Python 3 (ipykernel)",
   "language": "python",
   "name": "python3"
  },
  "language_info": {
   "codemirror_mode": {
    "name": "ipython",
    "version": 3
   },
   "file_extension": ".py",
   "mimetype": "text/x-python",
   "name": "python",
   "nbconvert_exporter": "python",
   "pygments_lexer": "ipython3",
   "version": "3.8.9"
  }
 },
 "nbformat": 4,
 "nbformat_minor": 5
}
